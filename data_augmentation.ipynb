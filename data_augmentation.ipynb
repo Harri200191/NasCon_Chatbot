{
 "cells": [
  {
   "cell_type": "code",
   "execution_count": 1,
   "metadata": {},
   "outputs": [],
   "source": [
    "def generic_questions(title):\n",
    "    \"\"\"\n",
    "    A function that takes  name of a mobile phone and return questions regarding it.\n",
    "    \"\"\"\n",
    "\n",
    "    questions = [\n",
    "        # Generate generic questions about a mobile phone\n",
    "        # answer to questions can be description\n",
    "        f\"Is {title} a good phone?\",\n",
    "        f\"Is {title} worth buying?\",\n",
    "        f\"Tell me about {title}\",\n",
    "        f\"I want to know about {title}\",\n",
    "        f\"Can you tell me about {title}\",\n",
    "        f\"Is {title} a good phone to buy?\",\n",
    "        f\"Is {title} a good phone to use?\",\n",
    "        f\"{title} phone\",\n",
    "        f\"{title}\",\n",
    "        f\"{title} description\",\n",
    "        f\"{title} specs\",\n",
    "        f\"{title} details\",\n",
    "        f\"info about {title}\",\n",
    "        f\"details about {title}\",\n",
    "        f\"specs of {title}\",\n",
    "        f\"review of {title}\",\n",
    "        f\"what is {title}\",\n",
    "        f\"what are details of {title}\",\n",
    "        f\"what are specs of {title}\",\n",
    "        f\"what is description of {title}\",\n",
    "        f\"what is information about {title}\",\n",
    "    ]\n",
    "    \n",
    "    return questions\n",
    "\n"
   ]
  },
  {
   "cell_type": "code",
   "execution_count": 2,
   "metadata": {},
   "outputs": [
    {
     "name": "stdout",
     "output_type": "stream",
     "text": [
      "1. Is Samsung Galaxy S21 a good phone?\n",
      "2. Is Samsung Galaxy S21 worth buying?\n",
      "3. Tell me about Samsung Galaxy S21\n",
      "4. I want to know about Samsung Galaxy S21\n",
      "5. Can you tell me about Samsung Galaxy S21\n",
      "6. Is Samsung Galaxy S21 a good phone to buy?\n",
      "7. Is Samsung Galaxy S21 a good phone to use?\n",
      "8. Samsung Galaxy S21 phone\n",
      "9. Samsung Galaxy S21\n",
      "10. Samsung Galaxy S21 description\n",
      "11. Samsung Galaxy S21 specs\n",
      "12. Samsung Galaxy S21 details\n",
      "13. info about Samsung Galaxy S21\n",
      "14. details about Samsung Galaxy S21\n",
      "15. specs of Samsung Galaxy S21\n",
      "16. review of Samsung Galaxy S21\n",
      "17. what is Samsung Galaxy S21\n",
      "18. what are details of Samsung Galaxy S21\n",
      "19. what are specs of Samsung Galaxy S21\n",
      "20. what is description of Samsung Galaxy S21\n",
      "21. what is information about Samsung Galaxy S21\n"
     ]
    }
   ],
   "source": [
    "# Example usage:\n",
    "phone_title = \"Samsung Galaxy S21\"\n",
    "questions = generic_questions(phone_title)\n",
    "for idx, question in enumerate(questions, start=1):\n",
    "    print(f\"{idx}. {question}\")"
   ]
  },
  {
   "cell_type": "code",
   "execution_count": 8,
   "metadata": {},
   "outputs": [],
   "source": [
    "def review_questions(title):\n",
    "\n",
    "    # Generate questions regarding reviews or feedback\n",
    "\n",
    "    questions = [\n",
    "        f\"{title} review\",\n",
    "        f\"experience with {title}\",\n",
    "    ]\n",
    "    return questions"
   ]
  },
  {
   "cell_type": "code",
   "execution_count": 9,
   "metadata": {},
   "outputs": [
    {
     "name": "stdout",
     "output_type": "stream",
     "text": [
      "1. Samsung Galaxy S21 review\n",
      "2. experience with Samsung Galaxy S21\n"
     ]
    }
   ],
   "source": [
    "\n",
    "# Example usage:\n",
    "phone_title = \"Samsung Galaxy S21\"\n",
    "questions = review_questions(phone_title)\n",
    "for idx, question in enumerate(questions, start=1):\n",
    "    print(f\"{idx}. {question}\")"
   ]
  },
  {
   "cell_type": "code",
   "execution_count": null,
   "metadata": {},
   "outputs": [],
   "source": []
  }
 ],
 "metadata": {
  "kernelspec": {
   "display_name": "Python 3",
   "language": "python",
   "name": "python3"
  },
  "language_info": {
   "codemirror_mode": {
    "name": "ipython",
    "version": 3
   },
   "file_extension": ".py",
   "mimetype": "text/x-python",
   "name": "python",
   "nbconvert_exporter": "python",
   "pygments_lexer": "ipython3",
   "version": "3.10.12"
  }
 },
 "nbformat": 4,
 "nbformat_minor": 2
}
