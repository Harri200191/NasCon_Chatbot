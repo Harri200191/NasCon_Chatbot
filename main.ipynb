{
 "cells": [
  {
   "attachments": {},
   "cell_type": "markdown",
   "metadata": {},
   "source": [
    "# Imports"
   ]
  },
  {
   "cell_type": "code",
   "execution_count": 1,
   "metadata": {},
   "outputs": [],
   "source": [
    "from utils import *\n",
    "import os\n",
    "import requests"
   ]
  },
  {
   "cell_type": "code",
   "execution_count": 13,
   "metadata": {},
   "outputs": [
    {
     "name": "stdout",
     "output_type": "stream",
     "text": [
      "Prompt:\n",
      "[INST]\n",
      "    What phone should I buy, give me a detailed analysis of the best phones in the market right now.\n",
      "[/INST]\n",
      "\n",
      "model: togethercomputer/llama-2-7b-chat\n"
     ]
    }
   ],
   "source": [
    "prompt = \"\"\"\n",
    "    What phone should I buy, give me a detailed analysis of the best phones in the market right now.\n",
    "\"\"\"\n",
    "response = llama(prompt, verbose=True)"
   ]
  },
  {
   "cell_type": "code",
   "execution_count": 14,
   "metadata": {},
   "outputs": [
    {
     "name": "stdout",
     "output_type": "stream",
     "text": [
      "  Certainly! Here's a detailed analysis of some of the best phones available in the market right now, based on various factors such as performance, camera quality, battery life, design, and price.\n",
      "\n",
      "1. Apple iPhone 12 Pro:\n",
      "\t* Pros: Superb camera performance, impressive battery life, stunning design, and fast charging capabilities.\n",
      "\t* Cons: Expensive, no headphone jack, and limited customization options.\n",
      "\t* Price: $799 - $849 (64GB), $899 - $949 (128GB), $1099 - $1149 (256GB)\n",
      "2. Samsung Galaxy S21:\n",
      "\t* Pros: Powerful Exynos 2100 chipset, impressive camera performance, long battery life, and fast charging capabilities.\n",
      "\t* Cons: No headphone jack, limited customization options, and slightly larger than some other phones.\n",
      "\t* Price: $799 - $849 (12GB + 128GB), $899 - $949 (12GB + 256GB), $1099 - $1149 (12GB + 512GB)\n",
      "3. Google Pixel 6:\n",
      "\t* Pros: Exceptional camera performance, timely software updates, and clean, intuitive interface.\n",
      "\t* Cons: No headphone jack, limited customization options, and slightly lower battery life compared to some other phones.\n",
      "\t* Price: $599 - $649 (64GB), $699 - $749 (128GB), $899 - $949 (256GB)\n",
      "4. OnePlus 9 Pro:\n",
      "\t* Pros: Powerful Qualcomm Snapdragon 888 chipset, impressive camera performance, long battery life, and fast charging capabilities.\n",
      "\t* Cons: No headphone jack, limited customization options, and slightly higher price point than some other phones.\n",
      "\t* Price: $799 - $849 (8GB + 128GB), $899 - $949 (8GB + 256GB), $1099 - $1149 (12GB + 512GB)\n",
      "5. Xiaomi Mi 11:\n",
      "\t* Pros: Powerful Qualcomm Snapdragon 888 chipset, impressive camera performance, long battery life, and affordable price point.\n",
      "\t* Cons: No headphone jack, limited customization options, and slightly smaller display than some other phones.\n",
      "\t* Price: $599 - $649 (6GB + 128GB), $699 - $749 (6GB + 256GB), $899 - $949 (8GB + 512GB)\n",
      "6. Oppo Reno Ace 2:\n",
      "\t* Pros: Powerful Qualcomm Snapdragon 888 chipset, impressive camera performance, long battery life, and fast charging capabilities.\n",
      "\t* Cons: No headphone jack, limited customization options, and slightly higher price point than some other phones.\n",
      "\t* Price: $699 - $749 (8GB + 128GB), $799 - $849 (8GB + 256GB), $999 - $1049 (12GB + 512GB)\n",
      "7. Huawei Mate 40 Pro:\n",
      "\t* Pros: Powerful HiSilicon Kirin 990 chipset, impressive camera performance, long battery life, and fast charging capabilities.\n",
      "\t* Cons: No Google Play Store access, limited customization options, and slightly higher price point than some other phones.\n",
      "\t* Price: $799 - $849 (8GB + 128GB), $899 - $949 (8GB + 256GB), $1099 - $1149 (12GB + 512GB)\n",
      "\n",
      "Based on these factors, the best phone for you will depend on your individual preferences and needs. If you're looking for a phone with an exceptional camera, consider the Google Pixel 6 or the Samsung Galaxy S21. If you want a phone with a powerful chipset and long battery life, the OnePlus 9 Pro or\n"
     ]
    }
   ],
   "source": [
    "print(response[\"output\"][\"choices\"][0][\"text\"])"
   ]
  },
  {
   "attachments": {},
   "cell_type": "markdown",
   "metadata": {},
   "source": [
    "# Training on custom data"
   ]
  },
  {
   "cell_type": "code",
   "execution_count": null,
   "metadata": {},
   "outputs": [],
   "source": [
    "api_url = \"https://api.together.xyz/train\"\n",
    "api_key = os.getenv(\"TOGETHER_API_KEY\")  \n",
    "\n",
    "training_data = [\n",
    "    {\"input\": \"Prompt 1\", \"target\": \"Response 1\"},\n",
    "    {\"input\": \"Prompt 2\", \"target\": \"Response 2\"},\n",
    "    # Add more training examples as needed\n",
    "]\n",
    "\n",
    "training_parameters = {\n",
    "    \"model\": \"togethercomputer/llama-7b-chat\",\n",
    "    \"training_steps\": 10000,\n",
    "    \"learning_rate\": 1e-4,\n",
    "    \"batch_size\": 8, \n",
    "}\n",
    " \n",
    "response = requests.post(api_url, json={\"data\": training_data, \"parameters\": training_parameters}, headers={\"Authorization\": f\"Bearer {api_key}\"})\n",
    " \n",
    "if response.status_code == 200:\n",
    "    print(\"Model training started successfully!\")\n",
    "else:\n",
    "    print(f\"Error: {response.status_code} - {response.text}\")\n"
   ]
  }
 ],
 "metadata": {
  "kernelspec": {
   "display_name": "Python 3",
   "language": "python",
   "name": "python3"
  },
  "language_info": {
   "codemirror_mode": {
    "name": "ipython",
    "version": 3
   },
   "file_extension": ".py",
   "mimetype": "text/x-python",
   "name": "python",
   "nbconvert_exporter": "python",
   "pygments_lexer": "ipython3",
   "version": "3.9.16"
  },
  "orig_nbformat": 4
 },
 "nbformat": 4,
 "nbformat_minor": 2
}
