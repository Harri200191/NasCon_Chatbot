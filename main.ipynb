{
 "cells": [
  {
   "attachments": {},
   "cell_type": "markdown",
   "metadata": {},
   "source": [
    "# Imports"
   ]
  },
  {
   "cell_type": "code",
   "execution_count": 1,
   "metadata": {},
   "outputs": [],
   "source": [
    "from utils import *\n",
    "import os\n",
    "import requests\n",
    "import together"
   ]
  },
  {
   "cell_type": "code",
   "execution_count": 13,
   "metadata": {},
   "outputs": [
    {
     "name": "stdout",
     "output_type": "stream",
     "text": [
      "Prompt:\n",
      "[INST]\n",
      "    What phone should I buy, give me a detailed analysis of the best phones in the market right now.\n",
      "[/INST]\n",
      "\n",
      "model: togethercomputer/llama-2-7b-chat\n"
     ]
    }
   ],
   "source": [
    "prompt = \"\"\"\n",
    "    What phone should I buy, give me a detailed analysis of the best phones in the market right now.\n",
    "\"\"\"\n",
    "response = llama(prompt, verbose=True)"
   ]
  },
  {
   "cell_type": "code",
   "execution_count": 14,
   "metadata": {},
   "outputs": [
    {
     "name": "stdout",
     "output_type": "stream",
     "text": [
      "  Certainly! Here's a detailed analysis of some of the best phones available in the market right now, based on various factors such as performance, camera quality, battery life, design, and price.\n",
      "\n",
      "1. Apple iPhone 12 Pro:\n",
      "\t* Pros: Superb camera performance, impressive battery life, stunning design, and fast charging capabilities.\n",
      "\t* Cons: Expensive, no headphone jack, and limited customization options.\n",
      "\t* Price: $799 - $849 (64GB), $899 - $949 (128GB), $1099 - $1149 (256GB)\n",
      "2. Samsung Galaxy S21:\n",
      "\t* Pros: Powerful Exynos 2100 chipset, impressive camera performance, long battery life, and fast charging capabilities.\n",
      "\t* Cons: No headphone jack, limited customization options, and slightly larger than some other phones.\n",
      "\t* Price: $799 - $849 (12GB + 128GB), $899 - $949 (12GB + 256GB), $1099 - $1149 (12GB + 512GB)\n",
      "3. Google Pixel 6:\n",
      "\t* Pros: Exceptional camera performance, timely software updates, and clean, intuitive interface.\n",
      "\t* Cons: No headphone jack, limited customization options, and slightly lower battery life compared to some other phones.\n",
      "\t* Price: $599 - $649 (64GB), $699 - $749 (128GB), $899 - $949 (256GB)\n",
      "4. OnePlus 9 Pro:\n",
      "\t* Pros: Powerful Qualcomm Snapdragon 888 chipset, impressive camera performance, long battery life, and fast charging capabilities.\n",
      "\t* Cons: No headphone jack, limited customization options, and slightly higher price point than some other phones.\n",
      "\t* Price: $799 - $849 (8GB + 128GB), $899 - $949 (8GB + 256GB), $1099 - $1149 (12GB + 512GB)\n",
      "5. Xiaomi Mi 11:\n",
      "\t* Pros: Powerful Qualcomm Snapdragon 888 chipset, impressive camera performance, long battery life, and affordable price point.\n",
      "\t* Cons: No headphone jack, limited customization options, and slightly smaller display than some other phones.\n",
      "\t* Price: $599 - $649 (6GB + 128GB), $699 - $749 (6GB + 256GB), $899 - $949 (8GB + 512GB)\n",
      "6. Oppo Reno Ace 2:\n",
      "\t* Pros: Powerful Qualcomm Snapdragon 888 chipset, impressive camera performance, long battery life, and fast charging capabilities.\n",
      "\t* Cons: No headphone jack, limited customization options, and slightly higher price point than some other phones.\n",
      "\t* Price: $699 - $749 (8GB + 128GB), $799 - $849 (8GB + 256GB), $999 - $1049 (12GB + 512GB)\n",
      "7. Huawei Mate 40 Pro:\n",
      "\t* Pros: Powerful HiSilicon Kirin 990 chipset, impressive camera performance, long battery life, and fast charging capabilities.\n",
      "\t* Cons: No Google Play Store access, limited customization options, and slightly higher price point than some other phones.\n",
      "\t* Price: $799 - $849 (8GB + 128GB), $899 - $949 (8GB + 256GB), $1099 - $1149 (12GB + 512GB)\n",
      "\n",
      "Based on these factors, the best phone for you will depend on your individual preferences and needs. If you're looking for a phone with an exceptional camera, consider the Google Pixel 6 or the Samsung Galaxy S21. If you want a phone with a powerful chipset and long battery life, the OnePlus 9 Pro or\n"
     ]
    }
   ],
   "source": [
    "print(response[\"output\"][\"choices\"][0][\"text\"])"
   ]
  },
  {
   "attachments": {},
   "cell_type": "markdown",
   "metadata": {},
   "source": [
    "# Training on custom data"
   ]
  },
  {
   "cell_type": "code",
   "execution_count": 2,
   "metadata": {},
   "outputs": [],
   "source": [
    "api_url = \"https://api.together.xyz/train\"\n",
    "api_key = os.getenv(\"TOGETHER_API_KEY\")  \n",
    "together.api_key = api_key\n",
    "\n",
    "base_model_name = \"togethercomputer/llama-2-7b-chat\"\n",
    "\n",
    "training_data = [\n",
    "    {\"input\": \"1. Is Samsung Galaxy S21 a good phone?\", \"target\": \"Yes it is pretty good\"},\n",
    "    {\"input\": \"Is Samsung Galaxy S21 a good phone to use?\", \"target\": \"Yes it is pretty good\"},\n",
    "    # Add more training examples as needed\n",
    "]\n",
    "\n",
    "training_parameters = {\n",
    "    \"model\": \"togethercomputer/llama-7b-chat\",\n",
    "    \"training_steps\": 10000,\n",
    "    \"learning_rate\": 1e-4,\n",
    "    \"batch_size\": 8, \n",
    "} "
   ]
  },
  {
   "cell_type": "code",
   "execution_count": 3,
   "metadata": {},
   "outputs": [
    {
     "data": {
      "text/plain": [
       "'<s>[INST] <<SYS>> You are a good robot <</SYS>> hi robot [/INST] hello human </s> are you good? [/INST] yes im good </s> are you bad? [/INST] no, im good </s>'"
      ]
     },
     "execution_count": 3,
     "metadata": {},
     "output_type": "execute_result"
    }
   ],
   "source": [
    "def format_to_llama2_chat(system_prompt, user_model_chat_list):\n",
    " \n",
    "\n",
    "    growing_prompt = f\"\"\"<s>[INST] <<SYS>> {system_prompt} <</SYS>>\"\"\"\n",
    "\n",
    "    for user_msg, model_answer in user_model_chat_list:\n",
    "        growing_prompt += f\"\"\" {user_msg} [/INST] {model_answer} </s>\"\"\"\n",
    "\n",
    "    return growing_prompt\n",
    "\n",
    "format_to_llama2_chat(\n",
    "    \"You are a good robot\",\n",
    "    [(\"hi robot\", \"hello human\"),(\"are you good?\", \"yes im good\"),(\"are you bad?\", \"no, im good\")]\n",
    ")"
   ]
  },
  {
   "cell_type": "code",
   "execution_count": null,
   "metadata": {},
   "outputs": [],
   "source": [
    "data_list = []\n",
    "\n",
    "for sample in legal_dataset['train']:\n",
    "\n",
    "    instruction_input_separator = random.choice([\":\", \": \", \"\\n\", \"\\n\\n\", \" \"])\n",
    "    input = sample['input'] if sample['input'] is not None else \"\"\n",
    "    instruction = sample['instruction'] if sample['instruction'] is not None else \"\"\n",
    "\n",
    "    training_sequence = format_to_llama2_chat(\n",
    "        \"you are a helpful legal assistant\",\n",
    "        [(instruction+instruction_input_separator+input,sample['output'])]\n",
    "    )\n",
    "\n",
    "    data_list.append({\n",
    "        \"text\":training_sequence\n",
    "    })\n",
    "\n",
    "print(len(data_list))\n",
    "print(data_list[0])"
   ]
  },
  {
   "cell_type": "code",
   "execution_count": null,
   "metadata": {},
   "outputs": [],
   "source": [
    "together.Files.save_jsonl(data_list, \"legal_dataset.jsonl\")"
   ]
  },
  {
   "cell_type": "code",
   "execution_count": null,
   "metadata": {},
   "outputs": [],
   "source": [
    "resp = together.Files.check(file=\"legal_dataset.jsonl\")\n",
    "print(resp)"
   ]
  },
  {
   "cell_type": "code",
   "execution_count": null,
   "metadata": {},
   "outputs": [],
   "source": [
    "resp = together.Files.list()\n",
    "print(resp)"
   ]
  },
  {
   "cell_type": "code",
   "execution_count": null,
   "metadata": {},
   "outputs": [],
   "source": [
    "# upload your dataset file to together and save the file-id, youll need it to start your finetuning run\n",
    "file_resp = together.Files.upload(file=\"legal_dataset.jsonl\")\n",
    "file_id = file_resp[\"id\"]\n",
    "print(file_resp)"
   ]
  },
  {
   "cell_type": "code",
   "execution_count": null,
   "metadata": {},
   "outputs": [],
   "source": [
    "# Submit your finetune job\n",
    "ft_resp = together.Finetune.create(\n",
    "  training_file = file_id ,\n",
    "  model = base_model_name,\n",
    "  n_epochs = 2,\n",
    "  batch_size = 4,\n",
    "  n_checkpoints = 1,\n",
    "  learning_rate = 5e-5,\n",
    "  wandb_api_key = WANDB_API_KEY,\n",
    "  #estimate_price = True,\n",
    "  suffix = 'law',\n",
    ")\n",
    "\n",
    "fine_tune_id = ft_resp['id']\n",
    "print(ft_resp)"
   ]
  },
  {
   "cell_type": "code",
   "execution_count": null,
   "metadata": {},
   "outputs": [],
   "source": [
    "# run this from time to time to check on the status of your job\n",
    "print(together.Finetune.retrieve(fine_tune_id=fine_tune_id)) # retrieves information on finetune event\n",
    "print(\"-\"*50)\n",
    "print(together.Finetune.get_job_status(fine_tune_id=fine_tune_id)) # pending, running, completed\n",
    "print(together.Finetune.is_final_model_available(fine_tune_id=fine_tune_id)) # True, False\n",
    "print(together.Finetune.get_checkpoints(fine_tune_id=fine_tune_id)) # list of checkpoints"
   ]
  },
  {
   "cell_type": "code",
   "execution_count": null,
   "metadata": {},
   "outputs": [],
   "source": [
    "print(together.Finetune.get_job_status(fine_tune_id=fine_tune_id)) # pending, running, completed"
   ]
  },
  {
   "cell_type": "code",
   "execution_count": null,
   "metadata": {},
   "outputs": [],
   "source": [
    "# replace this name with the name of your newly finetuned model\n",
    "new_model_name = 'carson/ft-2aaecf7b-ff6f-4341-813a-45d84ae2b1bf-2023-09-22-13-47-25'\n",
    "\n",
    "model_list = together.Models.list()\n",
    "\n",
    "print(f\"{len(model_list)} models available\")\n",
    "\n",
    "available_model_names = [model_dict['name'] for model_dict in model_list]\n",
    "\n",
    "new_model_name in available_model_names"
   ]
  },
  {
   "cell_type": "code",
   "execution_count": null,
   "metadata": {},
   "outputs": [],
   "source": [
    "# deploy your newly finetuned model\n",
    "together.Models.start(new_model_name)"
   ]
  },
  {
   "cell_type": "code",
   "execution_count": null,
   "metadata": {},
   "outputs": [],
   "source": [
    "# check if your model is finished deploying, if this returns {\"ready\": true}, you model is ready for inference\n",
    "together.Models.ready(new_model_name)"
   ]
  },
  {
   "cell_type": "code",
   "execution_count": null,
   "metadata": {},
   "outputs": [],
   "source": [
    "# use the inference API to generate text / create completion / chat\n",
    "print(new_model_name)\n",
    "\n",
    "output = together.Complete.create(\n",
    "  prompt = test_chat_prompt,\n",
    "  model = new_model_name,\n",
    "  max_tokens = 256,\n",
    "  temperature = 0.6,\n",
    "  top_k = 90,\n",
    "  top_p = 0.8,\n",
    "  repetition_penalty = 1.1,\n",
    "  stop = ['</s>']\n",
    ")\n",
    "\n",
    "# print generated text\n",
    "print(output['prompt'][0]+\" -> \"+output['output']['choices'][0]['text'])"
   ]
  },
  {
   "cell_type": "code",
   "execution_count": null,
   "metadata": {},
   "outputs": [],
   "source": [
    "# stop your model and you will no longer be paying for it\n",
    "together.Models.stop(new_model_name)"
   ]
  },
  {
   "cell_type": "code",
   "execution_count": null,
   "metadata": {},
   "outputs": [],
   "source": []
  }
 ],
 "metadata": {
  "kernelspec": {
   "display_name": "Python 3",
   "language": "python",
   "name": "python3"
  },
  "language_info": {
   "codemirror_mode": {
    "name": "ipython",
    "version": 3
   },
   "file_extension": ".py",
   "mimetype": "text/x-python",
   "name": "python",
   "nbconvert_exporter": "python",
   "pygments_lexer": "ipython3",
   "version": "3.9.16"
  },
  "orig_nbformat": 4
 },
 "nbformat": 4,
 "nbformat_minor": 2
}
