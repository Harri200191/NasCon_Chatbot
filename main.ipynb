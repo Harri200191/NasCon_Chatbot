{
 "cells": [
  {
   "attachments": {},
   "cell_type": "markdown",
   "metadata": {},
   "source": [
    "# Imports"
   ]
  },
  {
   "cell_type": "code",
   "execution_count": 4,
   "metadata": {},
   "outputs": [],
   "source": [
    "from utils import *\n",
    "import os\n",
    "import requests\n",
    "import together\n",
    "import json\n",
    "import wandb\n",
    "import random"
   ]
  },
  {
   "cell_type": "code",
   "execution_count": 5,
   "metadata": {},
   "outputs": [
    {
     "name": "stdout",
     "output_type": "stream",
     "text": [
      "Prompt:\n",
      "[INST]\n",
      "    What phone should I buy, give me a detailed analysis of the best phones in the market right now.\n",
      "[/INST]\n",
      "\n",
      "model: togethercomputer/llama-2-7b-chat\n"
     ]
    }
   ],
   "source": [
    "prompt = \"\"\"\n",
    "    What phone should I buy, give me a detailed analysis of the best phones in the market right now.\n",
    "\"\"\"\n",
    "response = llama(prompt, verbose=True)"
   ]
  },
  {
   "cell_type": "code",
   "execution_count": 6,
   "metadata": {},
   "outputs": [
    {
     "name": "stdout",
     "output_type": "stream",
     "text": [
      "  Certainly! Here's a detailed analysis of some of the best phones available in the market right now, based on various factors such as performance, camera quality, battery life, design, and price.\n",
      "\n",
      "1. Apple iPhone 12 Pro:\n",
      "\t* Pros: Superb camera performance, impressive battery life, stunning design, and fast charging capabilities.\n",
      "\t* Cons: Expensive, no headphone jack, and limited customization options.\n",
      "\t* Price: $799 - $849 (64GB), $899 - $949 (128GB), $1099 - $1149 (256GB)\n",
      "2. Samsung Galaxy S21:\n",
      "\t* Pros: Powerful Exynos 2100 chipset, impressive camera performance, long battery life, and fast charging capabilities.\n",
      "\t* Cons: No headphone jack, limited customization options, and slightly larger than some other phones.\n",
      "\t* Price: $799 - $849 (12GB + 128GB), $899 - $949 (12GB + 256GB), $1099 - $1149 (12GB + 512GB)\n",
      "3. Google Pixel 6:\n",
      "\t* Pros: Exceptional camera performance, timely software updates, and clean, intuitive interface.\n",
      "\t* Cons: No headphone jack, limited customization options, and slightly lower battery life compared to some other phones.\n",
      "\t* Price: $599 - $649 (64GB), $699 - $749 (128GB), $899 - $949 (256GB)\n",
      "4. OnePlus 9 Pro:\n",
      "\t* Pros: Powerful Qualcomm Snapdragon 888 chipset, impressive camera performance, long battery life, and fast charging capabilities.\n",
      "\t* Cons: No headphone jack, limited customization options, and slightly higher price point than some other phones.\n",
      "\t* Price: $799 - $849 (8GB + 128GB), $899 - $949 (8GB + 256GB), $1099 - $1149 (12GB + 512GB)\n",
      "5. Xiaomi Mi 11:\n",
      "\t* Pros: Powerful Qualcomm Snapdragon 888 chipset, impressive camera performance, long battery life, and affordable price point.\n",
      "\t* Cons: No headphone jack, limited customization options, and slightly smaller display than some other phones.\n",
      "\t* Price: $599 - $649 (6GB + 128GB), $699 - $749 (6GB + 256GB), $899 - $949 (8GB + 512GB)\n",
      "6. Oppo Reno Ace 2:\n",
      "\t* Pros: Powerful Qualcomm Snapdragon 888 chipset, impressive camera performance, long battery life, and fast charging capabilities.\n",
      "\t* Cons: No headphone jack, limited customization options, and slightly higher price point than some other phones.\n",
      "\t* Price: $699 - $749 (8GB + 128GB), $799 - $849 (8GB + 256GB), $999 - $1049 (12GB + 512GB)\n",
      "7. Huawei Mate 40 Pro:\n",
      "\t* Pros: Powerful HiSilicon Kirin 990 chipset, impressive camera performance, long battery life, and fast charging capabilities.\n",
      "\t* Cons: No Google Play Store access, limited customization options, and slightly higher price point than some other phones.\n",
      "\t* Price: $799 - $849 (8GB + 128GB), $899 - $949 (8GB + 256GB), $1099 - $1149 (12GB + 512GB)\n",
      "\n",
      "Based on these factors, the best phone for you will depend on your individual preferences and needs. If you're looking for a phone with an exceptional camera, consider the Google Pixel 6 or the Samsung Galaxy S21. If you want a phone with a powerful chipset and long battery life, the OnePlus 9 Pro or\n"
     ]
    }
   ],
   "source": [
    "print(response[\"output\"][\"choices\"][0][\"text\"])"
   ]
  },
  {
   "attachments": {},
   "cell_type": "markdown",
   "metadata": {},
   "source": [
    "# Training on custom data"
   ]
  },
  {
   "cell_type": "code",
   "execution_count": 7,
   "metadata": {},
   "outputs": [],
   "source": [
    "api_url = \"https://api.together.xyz/train\"\n",
    "api_key = os.getenv(\"TOGETHER_API_KEY\")  \n",
    "wandb_api_key = os.getenv(\"WANDB_API_KEY\")\n",
    "together.api_key = api_key\n",
    "\n",
    "base_model_name = \"togethercomputer/llama-2-7b-chat\" \n",
    "\n",
    "training_parameters = {\n",
    "    \"model\": \"togethercomputer/llama-7b-chat\",\n",
    "    \"training_steps\": 10000,\n",
    "    \"learning_rate\": 1e-4,\n",
    "    \"batch_size\": 8, \n",
    "} "
   ]
  },
  {
   "cell_type": "code",
   "execution_count": 5,
   "metadata": {},
   "outputs": [],
   "source": [
    "with open('data.json', 'r') as file:\n",
    "    try: \n",
    "        json_data = json.load(file) \n",
    "    except json.JSONDecodeError as e:\n",
    "        print('Error decoding JSON:', e)\n",
    "    except FileNotFoundError:\n",
    "        print('File not found.')\n",
    "    except Exception as e:\n",
    "        print('An error occurred:', e)\n"
   ]
  },
  {
   "cell_type": "code",
   "execution_count": 8,
   "metadata": {},
   "outputs": [
    {
     "data": {
      "text/plain": [
       "{'input': 'Is Nokia G21 6GB a good phone?',\n",
       " 'target': \" Nokia G21 6GB - Budget Beast Introduced by Nokia!\\nNokia has launched the expanded G21 6GB smartphone recently as a way of cheering on the current tough competition in the market and as a way of contributing to the success of the device, as it comes with amazing and unbelievable features. The whole new Nokia's G21 6GB landed with a Unisoc T606 (12 nm) chipset with the combination of a powerful Octa-core (2 x 1.6 GHz Cortex-A75 + 6 x 1.6 GHz Cortex-A55) CPU to increase the performance and speed. After that, with the new Nokia G21's 6GB, you will have 4GB of RAM with 128 GB of internal memory and also a dedicated memory card slot. The rumours about the Nokia G21 6GB suggest that it is going to be stable in the market as compared to its previous models since it comes with a triple camera system of 50 MP (wide) + 2 MP (macro) + 2 MP (depth) sensors, allowing users to experience another level of photography. On the front of the Nokia G21 6GB's a Sharp 8 MP selfie sensor to capture your beautiful moments with quality. The main attraction of the new Nokia's G21 6GB is its massive 6.5-inchÂ\\xa0IPS LCD capacitive touchscreen display, which looks very premium with its 720 x 1600 pixels resolution and 90 Hz refresh rate. The newly introduced G21Â\\xa06GB's a 5050 mAh battery pack that could last up to the whole day on just a single charge, and with the support of 18 Watts fast charging, it will be filled in aÂ\\xa0couple of minutes. With the announcement of the launch of the G21 6GB by Nokia, it is clear that Nokia is back in the market and attempting to recapture the position, which might not be advantageous for other brands such as Samsung.\"}"
      ]
     },
     "execution_count": 8,
     "metadata": {},
     "output_type": "execute_result"
    }
   ],
   "source": [
    "json_data[0]"
   ]
  },
  {
   "cell_type": "code",
   "execution_count": 9,
   "metadata": {},
   "outputs": [
    {
     "data": {
      "text/plain": [
       "'<s>[INST] <<SYS>> You are a good robot <</SYS>> hi robot [/INST] hello human </s> are you good? [/INST] yes im good </s> are you bad? [/INST] no, im good </s>'"
      ]
     },
     "execution_count": 9,
     "metadata": {},
     "output_type": "execute_result"
    }
   ],
   "source": [
    "def format_to_llama2_chat(system_prompt, user_model_chat_list):\n",
    " \n",
    "\n",
    "    growing_prompt = f\"\"\"<s>[INST] <<SYS>> {system_prompt} <</SYS>>\"\"\"\n",
    "\n",
    "    for user_msg, model_answer in user_model_chat_list:\n",
    "        growing_prompt += f\"\"\" {user_msg} [/INST] {model_answer} </s>\"\"\"\n",
    "\n",
    "    return growing_prompt\n",
    "\n",
    "format_to_llama2_chat(\n",
    "    \"You are a good robot\",\n",
    "    [(\"hi robot\", \"hello human\"),(\"are you good?\", \"yes im good\"),(\"are you bad?\", \"no, im good\")]\n",
    ")"
   ]
  },
  {
   "cell_type": "code",
   "execution_count": 13,
   "metadata": {},
   "outputs": [
    {
     "name": "stdout",
     "output_type": "stream",
     "text": [
      "17010\n",
      "{'text': \"<s>[INST] <<SYS>> you are a helpful mobile phone expert. You know all about phones <</SYS>> Is Nokia G21 6GB a good phone? [/INST]  Nokia G21 6GB - Budget Beast Introduced by Nokia!\\nNokia has launched the expanded G21 6GB smartphone recently as a way of cheering on the current tough competition in the market and as a way of contributing to the success of the device, as it comes with amazing and unbelievable features. The whole new Nokia's G21 6GB landed with a Unisoc T606 (12 nm) chipset with the combination of a powerful Octa-core (2 x 1.6 GHz Cortex-A75 + 6 x 1.6 GHz Cortex-A55) CPU to increase the performance and speed. After that, with the new Nokia G21's 6GB, you will have 4GB of RAM with 128 GB of internal memory and also a dedicated memory card slot. The rumours about the Nokia G21 6GB suggest that it is going to be stable in the market as compared to its previous models since it comes with a triple camera system of 50 MP (wide) + 2 MP (macro) + 2 MP (depth) sensors, allowing users to experience another level of photography. On the front of the Nokia G21 6GB's a Sharp 8 MP selfie sensor to capture your beautiful moments with quality. The main attraction of the new Nokia's G21 6GB is its massive 6.5-inchÂ\\xa0IPS LCD capacitive touchscreen display, which looks very premium with its 720 x 1600 pixels resolution and 90 Hz refresh rate. The newly introduced G21Â\\xa06GB's a 5050 mAh battery pack that could last up to the whole day on just a single charge, and with the support of 18 Watts fast charging, it will be filled in aÂ\\xa0couple of minutes. With the announcement of the launch of the G21 6GB by Nokia, it is clear that Nokia is back in the market and attempting to recapture the position, which might not be advantageous for other brands such as Samsung. </s>\"}\n"
     ]
    }
   ],
   "source": [
    "data_list = []\n",
    "\n",
    "for sample in json_data:\n",
    "    input = sample['input'] if sample['input'] is not None else \"\"\n",
    "\n",
    "    training_sequence = format_to_llama2_chat(\n",
    "        \"you are a helpful mobile phone expert. You know all about phones\",\n",
    "        [(input,sample['target'])]\n",
    "    )\n",
    "\n",
    "    data_list.append({\n",
    "        \"text\":training_sequence\n",
    "    })\n",
    "\n",
    "print(len(data_list))\n",
    "print(data_list[0])"
   ]
  },
  {
   "cell_type": "code",
   "execution_count": 14,
   "metadata": {},
   "outputs": [
    {
     "name": "stdout",
     "output_type": "stream",
     "text": [
      "Wrote 17010 records to legal_dataset.jsonl\n"
     ]
    }
   ],
   "source": [
    "together.Files.save_jsonl(data_list, \"legal_dataset.jsonl\")"
   ]
  },
  {
   "cell_type": "code",
   "execution_count": 55,
   "metadata": {},
   "outputs": [
    {
     "name": "stdout",
     "output_type": "stream",
     "text": [
      "{'is_check_passed': True, 'model_special_tokens': 'we are not yet checking end of sentence tokens for this model', 'file_present': 'File found', 'file_size': 'File size 0.03 GB', 'num_samples': 17010}\n"
     ]
    }
   ],
   "source": [
    "resp = together.Files.check(file=\"legal_dataset.jsonl\")\n",
    "print(resp)"
   ]
  },
  {
   "cell_type": "code",
   "execution_count": 56,
   "metadata": {},
   "outputs": [
    {
     "name": "stdout",
     "output_type": "stream",
     "text": [
      "{'data': [{'filename': 'legal_dataset.jsonl', 'bytes': 32276562, 'created_at': 1709391344, 'id': 'file-6fb5297f-37b3-4b60-83a2-c79678d636d5', 'purpose': 'fine-tune', 'object': 'file', 'LineCount': 0, 'Processed': True}], 'object': 'list'}\n"
     ]
    }
   ],
   "source": [
    "resp = together.Files.list()\n",
    "print(resp)"
   ]
  },
  {
   "cell_type": "code",
   "execution_count": 17,
   "metadata": {},
   "outputs": [
    {
     "name": "stderr",
     "output_type": "stream",
     "text": [
      "Uploading legal_dataset.jsonl: 100%|██████████| 30.8M/30.8M [00:11<00:00, 2.90MB/s]"
     ]
    },
    {
     "name": "stdout",
     "output_type": "stream",
     "text": [
      "{'filename': 'legal_dataset.jsonl', 'id': 'file-6fb5297f-37b3-4b60-83a2-c79678d636d5', 'object': 'file', 'report_dict': {'is_check_passed': True, 'model_special_tokens': 'we are not yet checking end of sentence tokens for this model', 'file_present': 'File found', 'file_size': 'File size 0.03 GB', 'num_samples': 17010}}\n"
     ]
    },
    {
     "name": "stderr",
     "output_type": "stream",
     "text": [
      "\n"
     ]
    }
   ],
   "source": [
    "file_resp = together.Files.upload(file=\"legal_dataset.jsonl\")\n",
    "file_id = file_resp[\"id\"]\n",
    "print(file_resp)"
   ]
  },
  {
   "cell_type": "code",
   "execution_count": 19,
   "metadata": {},
   "outputs": [
    {
     "name": "stdout",
     "output_type": "stream",
     "text": [
      "{'training_file': 'file-6fb5297f-37b3-4b60-83a2-c79678d636d5', 'validation_file': '', 'model_output_name': 'harisrehman195103@gmail.com/llama-2-7b-chat-law-2024-03-02-15-00-52', 'model_output_path': 's3://together-dev/finetune/65e2c8f5d14c747cee2d3e16/harisrehman195103@gmail.com/llama-2-7b-chat-law-2024-03-02-15-00-52/ft-1739a3ac-6d52-4c95-ab88-1dcdd53bb4ce', 'Suffix': 'law', 'model': 'togethercomputer/llama-2-7b-chat', 'n_epochs': 2, 'n_checkpoints': 1, 'batch_size': 4, 'learning_rate': 5e-05, 'eval_steps': 0, 'user_id': '65e2c8f5d14c747cee2d3e16', 'lora': False, 'lora_r': 8, 'lora_alpha': 8, 'lora_dropout': 0, 'staring_epoch': 0, 'training_offset': 0, 'checkspoint_path': '', 'random_seed': '', 'created_at': '2024-03-02T15:00:52.08Z', 'updated_at': '2024-03-02T15:00:52.08Z', 'status': 'pending', 'owner_address': '0x75b8672cb99aa4456064dc1725ca235012fc6907', 'id': 'ft-1739a3ac-6d52-4c95-ab88-1dcdd53bb4ce', 'job_id': '', 'token_count': 0, 'param_count': 0, 'total_price': 0, 'epochs_completed': 0, 'events': [{'object': 'fine-tune-event', 'created_at': '2024-03-02T15:00:52.08Z', 'level': '', 'message': 'Fine tune request created', 'type': 'JOB_PENDING', 'param_count': 0, 'token_count': 0, 'wandb_url': '', 'checkpoint_path': '', 'model_path': '', 'training_offset': 0, 'hash': ''}], 'queue_depth': 0, 'wandb_key': '', 'wandb_project_name': '', 'wandb_url': '', 'enable_checkpoints': False, 'internal_flags': '', 'UsedModelName': '', 'TrainingFileNumLines': 0, 'TrainingFileSize': 32276562, 'job_stats': {'FtUserTime': '', 'FtSysTime': '', 'FtMaxRss': 0, 'FtMinPgFlt': 0, 'FtMajPgFlt': 0, 'FtInBlock': 0, 'FtOutBlock': 0, 'FtNvCsw': 0, 'FtNivCsw': 0}}\n"
     ]
    }
   ],
   "source": [
    "ft_resp = together.Finetune.create(\n",
    "  training_file = file_id ,\n",
    "  model = base_model_name,\n",
    "  n_epochs = 2,\n",
    "  batch_size = 4,\n",
    "  n_checkpoints = 1,\n",
    "  learning_rate = 5e-5,\n",
    "  wandb_api_key = wandb_api_key,\n",
    "  #estimate_price = True,\n",
    "  suffix = 'law',\n",
    ")\n",
    "\n",
    "fine_tune_id = ft_resp['id']\n",
    "print(ft_resp)"
   ]
  },
  {
   "cell_type": "code",
   "execution_count": 58,
   "metadata": {},
   "outputs": [
    {
     "name": "stdout",
     "output_type": "stream",
     "text": [
      "{'training_file': 'file-6fb5297f-37b3-4b60-83a2-c79678d636d5', 'validation_file': '', 'model_output_name': 'harisrehman195103@gmail.com/llama-2-7b-chat-law-2024-03-02-15-00-52', 'model_output_path': 's3://together-dev/finetune/65e2c8f5d14c747cee2d3e16/harisrehman195103@gmail.com/llama-2-7b-chat-law-2024-03-02-15-00-52/ft-1739a3ac-6d52-4c95-ab88-1dcdd53bb4ce-2024-03-02-07-42-02', 'Suffix': 'law', 'model': 'togethercomputer/llama-2-7b-chat', 'n_epochs': 2, 'n_checkpoints': 1, 'batch_size': 4, 'learning_rate': 5e-05, 'eval_steps': 0, 'user_id': '65e2c8f5d14c747cee2d3e16', 'lora': False, 'lora_r': 8, 'lora_alpha': 8, 'lora_dropout': 0, 'staring_epoch': 0, 'training_offset': 0, 'checkspoint_path': '', 'random_seed': '', 'created_at': '2024-03-02T15:00:52.08Z', 'updated_at': '2024-03-02T15:46:31.207Z', 'status': 'completed', 'owner_address': '0x75b8672cb99aa4456064dc1725ca235012fc6907', 'id': 'ft-1739a3ac-6d52-4c95-ab88-1dcdd53bb4ce', 'job_id': '15219', 'token_count': 8888376, 'param_count': 6738415616, 'total_price': 6989357163, 'epochs_completed': 2, 'events': [{'object': 'fine-tune-event', 'created_at': '2024-03-02T15:00:52.08Z', 'level': '', 'message': 'Fine tune request created', 'type': 'JOB_PENDING', 'param_count': 0, 'token_count': 0, 'wandb_url': '', 'checkpoint_path': '', 'model_path': '', 'training_offset': 0, 'hash': ''}, {'object': 'fine-tune-event', 'created_at': '2024-03-02T15:00:55Z', 'level': 'Info', 'message': 'Job started at Sat Mar  2 07:00:55 PST 2024', 'type': 'JOB_START', 'param_count': 0, 'token_count': 0, 'wandb_url': '', 'checkpoint_path': '', 'model_path': '', 'training_offset': 0, 'hash': '2381285465297456097'}, {'object': 'fine-tune-event', 'created_at': '2024-03-02T15:02:55Z', 'level': 'Info', 'message': 'Model data downloaded for togethercomputer/llama-2-7b-chat at Sat Mar  2 07:02:55 PST 2024', 'type': 'MODEL_DOWNLOAD_COMPLETE', 'param_count': 0, 'token_count': 0, 'wandb_url': '', 'checkpoint_path': '', 'model_path': '', 'training_offset': 0, 'hash': '-8752670878403571578'}, {'object': 'fine-tune-event', 'created_at': '2024-03-02T15:02:58Z', 'level': 'Info', 'message': 'Training data downloaded for togethercomputer/llama-2-7b-chat at Sat Mar  2 07:02:58 PST 2024', 'type': 'TRAINING_DATA_DOWNLOAD_COMPLETE', 'param_count': 0, 'token_count': 0, 'wandb_url': '', 'checkpoint_path': '', 'model_path': '', 'training_offset': 0, 'hash': '-6698141564621138233'}, {'object': 'fine-tune-event', 'created_at': '2024-03-02T15:03:39Z', 'level': 'Info', 'message': 'Training started for model /work/job-ft-1739a3ac-6d52-4c95-ab88-1dcdd53bb4ce/model', 'type': 'TRAINING_START', 'param_count': 6738415616, 'token_count': 8888376, 'wandb_url': '', 'checkpoint_path': '', 'model_path': '', 'training_offset': 0, 'hash': '-3662808064305345207'}, {'object': 'fine-tune-event', 'created_at': '2024-03-02T15:22:08Z', 'level': 'Info', 'message': 'Epoch completed, at step 543', 'type': 'EPOCH_COMPLETE', 'param_count': 0, 'token_count': 0, 'wandb_url': '', 'checkpoint_path': '', 'model_path': '', 'training_offset': 0, 'hash': '-5522632115023547783'}, {'object': 'fine-tune-event', 'created_at': '2024-03-02T15:40:19Z', 'level': 'Info', 'message': 'Epoch completed, at step 1086', 'type': 'EPOCH_COMPLETE', 'param_count': 0, 'token_count': 0, 'wandb_url': '', 'checkpoint_path': '', 'model_path': '', 'training_offset': 0, 'hash': '6118021187302733152'}, {'object': 'fine-tune-event', 'created_at': '2024-03-02T15:40:59Z', 'level': 'Info', 'message': 'Training completed for togethercomputer/llama-2-7b-chat at Sat Mar  2 07:40:59 PST 2024', 'type': 'TRAINING_COMPLETE', 'param_count': 0, 'token_count': 0, 'wandb_url': '', 'checkpoint_path': '', 'model_path': '', 'training_offset': 0, 'hash': '7492911743443919761'}, {'object': 'fine-tune-event', 'created_at': '2024-03-02T15:41:47Z', 'level': 'Info', 'message': 'Compressing output model', 'type': 'COMPRESSING_MODEL', 'param_count': 0, 'token_count': 0, 'wandb_url': '', 'checkpoint_path': '', 'model_path': '', 'training_offset': 0, 'hash': '4720355155526099685'}, {'object': 'fine-tune-event', 'created_at': '2024-03-02T15:42:03Z', 'level': 'Info', 'message': 'Model compression complete', 'type': 'MODEL_COMPRESSION_COMPLETE', 'param_count': 0, 'token_count': 0, 'wandb_url': '', 'checkpoint_path': '', 'model_path': '', 'training_offset': 0, 'hash': '-9120294583877252'}, {'object': 'fine-tune-event', 'created_at': '2024-03-02T15:42:03Z', 'level': 'Info', 'message': 'Uploading output model', 'type': 'MODEL_UPLOADING', 'param_count': 0, 'token_count': 0, 'wandb_url': '', 'checkpoint_path': '', 'model_path': '', 'training_offset': 0, 'hash': '91806390652574397'}, {'object': 'fine-tune-event', 'created_at': '2024-03-02T15:46:30Z', 'level': 'Info', 'message': 'Model upload complete', 'type': 'MODEL_UPLOAD_COMPLETE', 'param_count': 0, 'token_count': 0, 'wandb_url': '', 'checkpoint_path': '', 'model_path': '', 'training_offset': 0, 'hash': '-4851785289808481580'}, {'object': 'fine-tune-event', 'created_at': '2024-03-02T15:46:30Z', 'level': 'Info', 'message': 'Job finished at Sat Mar  2 07:46:30 PST 2024', 'type': 'JOB_COMPLETE', 'param_count': 0, 'token_count': 0, 'wandb_url': '', 'checkpoint_path': '', 'model_path': 's3://together-dev/finetune/65e2c8f5d14c747cee2d3e16/harisrehman195103@gmail.com/llama-2-7b-chat-law-2024-03-02-15-00-52/ft-1739a3ac-6d52-4c95-ab88-1dcdd53bb4ce-2024-03-02-07-42-02', 'training_offset': 0, 'hash': '-4869035290244567683'}], 'queue_depth': 0, 'wandb_key': '', 'wandb_project_name': '', 'wandb_url': '', 'enable_checkpoints': False, 'internal_flags': '', 'UsedModelName': '', 'TrainingFileNumLines': 0, 'TrainingFileSize': 32276562, 'job_stats': {'FtUserTime': '', 'FtSysTime': '', 'FtMaxRss': 0, 'FtMinPgFlt': 0, 'FtMajPgFlt': 0, 'FtInBlock': 0, 'FtOutBlock': 0, 'FtNvCsw': 0, 'FtNivCsw': 0}}\n",
      "--------------------------------------------------\n",
      "completed\n",
      "True\n",
      "[]\n"
     ]
    }
   ],
   "source": [
    "print(together.Finetune.retrieve(fine_tune_id=fine_tune_id)) # retrieves information on finetune event\n",
    "print(\"-\"*50)\n",
    "print(together.Finetune.get_job_status(fine_tune_id=fine_tune_id)) # pending, running, completed\n",
    "print(together.Finetune.is_final_model_available(fine_tune_id=fine_tune_id)) # True, False\n",
    "print(together.Finetune.get_checkpoints(fine_tune_id=fine_tune_id)) # list of checkpoints"
   ]
  },
  {
   "cell_type": "code",
   "execution_count": 57,
   "metadata": {},
   "outputs": [
    {
     "name": "stdout",
     "output_type": "stream",
     "text": [
      "completed\n"
     ]
    }
   ],
   "source": [
    "print(together.Finetune.get_job_status(fine_tune_id=fine_tune_id)) # pending, running, completed"
   ]
  },
  {
   "cell_type": "code",
   "execution_count": 8,
   "metadata": {},
   "outputs": [
    {
     "name": "stdout",
     "output_type": "stream",
     "text": [
      "165 models available\n"
     ]
    },
    {
     "data": {
      "text/plain": [
       "True"
      ]
     },
     "execution_count": 8,
     "metadata": {},
     "output_type": "execute_result"
    }
   ],
   "source": [
    "new_model_name = 'harisrehman195103@gmail.com/llama-2-7b-chat-law-2024-03-02-15-00-52'\n",
    "\n",
    "model_list = together.Models.list()\n",
    "\n",
    "print(f\"{len(model_list)} models available\")\n",
    "\n",
    "available_model_names = [model_dict['name'] for model_dict in model_list]\n",
    "\n",
    "new_model_name in available_model_names"
   ]
  },
  {
   "cell_type": "code",
   "execution_count": 59,
   "metadata": {},
   "outputs": [
    {
     "data": {
      "text/plain": [
       "{'success': True,\n",
       " 'value': 'a91ababf3ee45a618815ba9e194e4c9720e9de95b7835cf4b7027c4b62832a1f-a1249c295f3ca6c1c65c19caca9a34951a93a0ee140232fdde0f8f9811dc39a5'}"
      ]
     },
     "execution_count": 59,
     "metadata": {},
     "output_type": "execute_result"
    }
   ],
   "source": [
    "together.Models.start(new_model_name)"
   ]
  },
  {
   "cell_type": "code",
   "execution_count": 60,
   "metadata": {},
   "outputs": [
    {
     "data": {
      "text/plain": [
       "[{'modelInstanceConfig': {'appearsIn': [], 'order': 0},\n",
       "  '_id': '65e349d707d57fd92ca0c37b',\n",
       "  'name': 'harisrehman195103@gmail.com/llama-2-7b-chat-law-2024-03-02-15-00-52',\n",
       "  'display_type': 'chat',\n",
       "  'description': 'Llama 2-chat leverages publicly available instruction datasets and over 1 million human annotations. Available in three sizes: 7B, 13B and 70B parameters',\n",
       "  'creator_organization': 'harisrehman195103@gmail.com',\n",
       "  'hardware_label': 'L40',\n",
       "  'num_parameters': '6738415616',\n",
       "  'release_date': '2024-03-02T15:46:31.235Z',\n",
       "  'show_in_playground': True,\n",
       "  'owner': 'harisrehman195103@gmail.com',\n",
       "  'owner_address': '0x75b8672cb99aa4456064dc1725ca235012fc6907',\n",
       "  'owner_userid': '65e2c8f5d14c747cee2d3e16',\n",
       "  'parent': 'togethercomputer/llama-2-7b-chat',\n",
       "  'base': 'togethercomputer/llama-2-7b-chat',\n",
       "  'path': 'r2://together-dev/finetune/65e2c8f5d14c747cee2d3e16/harisrehman195103@gmail.com/llama-2-7b-chat-law-2024-03-02-15-00-52/ft-1739a3ac-6d52-4c95-ab88-1dcdd53bb4ce-2024-03-02-07-42-02',\n",
       "  'files': [{'filename': 'added_tokens.json',\n",
       "    'size': 21,\n",
       "    'hash': 'ddfe5408fa8791d2ce96f5aeeb2bb76',\n",
       "    'modified': '2024-03-02T15:42:06.266Z'},\n",
       "   {'filename': 'config.json',\n",
       "    'size': 658,\n",
       "    'hash': '67ffcadf5af9ba96ff850c6c6b546c6',\n",
       "    'modified': '2024-03-02T15:42:05.712Z'},\n",
       "   {'filename': 'generation_config.json',\n",
       "    'size': 132,\n",
       "    'hash': 'b655e018b2680db71f35cbdae6c0802',\n",
       "    'modified': '2024-03-02T15:42:06.548Z'},\n",
       "   {'filename': 'model-00001-of-00003.safetensors',\n",
       "    'size': 4938985248,\n",
       "    'hash': '37de3313b24632c01281d904d11c73c1-58',\n",
       "    'modified': '2024-03-02T15:44:22.559Z'},\n",
       "   {'filename': 'model-00002-of-00003.safetensors',\n",
       "    'size': 4947390768,\n",
       "    'hash': '84d8e203b120d30264ded62b7f5c51c6-59',\n",
       "    'modified': '2024-03-02T15:44:11.567Z'},\n",
       "   {'filename': 'model-00003-of-00003.safetensors',\n",
       "    'size': 3590488736,\n",
       "    'hash': 'e4b47249da680653b00673ac51aa78f9-42',\n",
       "    'modified': '2024-03-02T15:43:39.518Z'},\n",
       "   {'filename': 'model.safetensors.index.json',\n",
       "    'size': 23950,\n",
       "    'hash': 'ec4e8026d001d56b437cc9bbcaa1f45',\n",
       "    'modified': '2024-03-02T15:42:06.376Z'},\n",
       "   {'filename': 'special_tokens_map.json',\n",
       "    'size': 550,\n",
       "    'hash': '427d75721b0ff3694561b76782ff3f8',\n",
       "    'modified': '2024-03-02T15:42:06.396Z'},\n",
       "   {'filename': 'tokenizer.model',\n",
       "    'size': 499723,\n",
       "    'hash': 'eeec4125e9c7560836b4873b6f8e302',\n",
       "    'modified': '2024-03-02T15:42:08.862Z'},\n",
       "   {'filename': 'tokenizer_config.json',\n",
       "    'size': 1105,\n",
       "    'hash': '27fc6637cf356ec3695c86fef5f63c9',\n",
       "    'modified': '2024-03-02T15:42:06.721Z'}],\n",
       "  'config': {'prompt_format': '[INST] {prompt} [/INST]',\n",
       "   'stop': ['[/INST]', '</s>'],\n",
       "   'chat_template_name': 'llama'},\n",
       "  'worker_config': None,\n",
       "  'worker_template': None,\n",
       "  'pricing': {'hourly': 1400000000,\n",
       "   'input': 0,\n",
       "   'output': 0,\n",
       "   'finetune': 0,\n",
       "   'base': 0},\n",
       "  'created_at': '2024-03-02T15:46:31.424Z',\n",
       "  'update_at': '2024-03-02T15:46:31.424Z',\n",
       "  'autopilot_pool': None,\n",
       "  'has_wandb_telemetry': False,\n",
       "  'wandb_url': '',\n",
       "  'ready': False}]"
      ]
     },
     "execution_count": 60,
     "metadata": {},
     "output_type": "execute_result"
    }
   ],
   "source": [
    "together.Models.ready(new_model_name)"
   ]
  },
  {
   "cell_type": "code",
   "execution_count": 15,
   "metadata": {},
   "outputs": [
    {
     "data": {
      "text/plain": [
       "'<s>[INST] <<SYS>>you are a helpful mobile phone expert. You know all about phones <</SYS>> hello! [/INST]'"
      ]
     },
     "execution_count": 15,
     "metadata": {},
     "output_type": "execute_result"
    }
   ],
   "source": [
    "test_chat_prompt = \"<s>[INST] <<SYS>>you are a helpful mobile phone expert. You know all about phones <</SYS>> hello! [/INST]\"\n",
    "test_chat_prompt"
   ]
  },
  {
   "cell_type": "code",
   "execution_count": 9,
   "metadata": {},
   "outputs": [
    {
     "name": "stdout",
     "output_type": "stream",
     "text": [
      "harisrehman195103@gmail.com/llama-2-7b-chat-law-2024-03-02-15-00-52\n"
     ]
    }
   ],
   "source": [
    "print(new_model_name)"
   ]
  },
  {
   "cell_type": "code",
   "execution_count": 13,
   "metadata": {},
   "outputs": [
    {
     "name": "stdout",
     "output_type": "stream",
     "text": [
      "<s>[INST] <<SYS>> <</SYS>> hello! [/INST] ->  Hello!\n",
      " nobody is perfect, every one of us make mistakes. But the good thing is that we can always learn from our errors and improve ourselves. \n"
     ]
    }
   ],
   "source": [
    "output = together.Complete.create(\n",
    "  prompt = test_chat_prompt,\n",
    "  model = new_model_name,\n",
    "  max_tokens = 256,\n",
    "  temperature = 0.2,\n",
    "  top_k = 90,\n",
    "  top_p = 0.8,\n",
    "  repetition_penalty = 1.1,\n",
    "  stop = ['</s>']\n",
    ")\n",
    "\n",
    "print(output['prompt'][0]+\" -> \"+output['output']['choices'][0]['text'])"
   ]
  },
  {
   "cell_type": "code",
   "execution_count": 14,
   "metadata": {},
   "outputs": [
    {
     "data": {
      "text/plain": [
       "' Hello!\\n nobody is perfect, every one of us make mistakes. But the good thing is that we can always learn from our errors and improve ourselves. '"
      ]
     },
     "execution_count": 14,
     "metadata": {},
     "output_type": "execute_result"
    }
   ],
   "source": [
    "output['output']['choices'][0]['text']"
   ]
  },
  {
   "cell_type": "code",
   "execution_count": 53,
   "metadata": {},
   "outputs": [
    {
     "data": {
      "text/plain": [
       "{'success': True}"
      ]
     },
     "execution_count": 53,
     "metadata": {},
     "output_type": "execute_result"
    }
   ],
   "source": [
    "together.Models.stop(new_model_name)"
   ]
  },
  {
   "cell_type": "code",
   "execution_count": null,
   "metadata": {},
   "outputs": [],
   "source": []
  },
  {
   "cell_type": "code",
   "execution_count": null,
   "metadata": {},
   "outputs": [],
   "source": []
  }
 ],
 "metadata": {
  "kernelspec": {
   "display_name": "Python 3",
   "language": "python",
   "name": "python3"
  },
  "language_info": {
   "codemirror_mode": {
    "name": "ipython",
    "version": 3
   },
   "file_extension": ".py",
   "mimetype": "text/x-python",
   "name": "python",
   "nbconvert_exporter": "python",
   "pygments_lexer": "ipython3",
   "version": "3.9.16"
  },
  "orig_nbformat": 4
 },
 "nbformat": 4,
 "nbformat_minor": 2
}
